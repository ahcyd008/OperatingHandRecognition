{
 "cells": [
  {
   "cell_type": "code",
   "execution_count": 36,
   "id": "d1270e85",
   "metadata": {},
   "outputs": [
    {
     "name": "stdout",
     "output_type": "stream",
     "text": [
      "all file count= 7\n",
      "train data: (438, 9, 6) (438,)\n",
      "tran data shape: (438, 9, 6) (438,)\n",
      "all file count= 3\n",
      "test data: (69, 9, 6) (69,)\n"
     ]
    }
   ],
   "source": [
    "import os, random\n",
    "import numpy as np\n",
    "import tensorflow as tf\n",
    "import json\n",
    "\n",
    "def load_json(filename):\n",
    "    with open(filename) as json_file:\n",
    "        data = json.load(json_file)\n",
    "        return data\n",
    "\n",
    "def show_files(label_dir):\n",
    "    all_files = []\n",
    "    file_list = os.listdir(label_dir)\n",
    "    for file in file_list:\n",
    "        cur_path = os.path.join(label_dir, file)\n",
    "        root, extension = os.path.splitext(cur_path)\n",
    "        ext_lower = extension.lower()\n",
    "        if ext_lower == \".json\":\n",
    "            all_files.append(cur_path)\n",
    "    return all_files\n",
    "\n",
    "def getX(points):\n",
    "    size = len(points)\n",
    "    if size < 6 : # 过滤误触\n",
    "        return None\n",
    "    sample_count = 9\n",
    "    tensor_size = 6\n",
    "    step = size * 1.0 / sample_count\n",
    "    x = []\n",
    "    for i in range(sample_count):\n",
    "        p = points[int(i*step)]\n",
    "        if len(p) == 6:\n",
    "            x.append(p) # x, y, w, h, density, dtime\n",
    "    return x\n",
    "\n",
    "def getY(label):\n",
    "    if label == \"right\":\n",
    "        return 1\n",
    "    return 0\n",
    "\n",
    "def obtainXY(data_dir, shuffle=False):\n",
    "    X = []\n",
    "    Y = []\n",
    "    classes =  [\"left\", \"right\"]\n",
    "    all_file_count = 0\n",
    "    for label in classes:\n",
    "        all_files = show_files(data_dir + str(label))\n",
    "        all_file_count += len(all_files)\n",
    "        for file in all_files:\n",
    "            one_tracker = load_json(file)\n",
    "            for points in one_tracker:\n",
    "                x = getX(points)\n",
    "                y = getY(label)\n",
    "                if x is not None:\n",
    "                    X.append(x)\n",
    "                    Y.append(y)\n",
    "    print(\"all file count=\", all_file_count)\n",
    "    X = np.array(X)\n",
    "    Y = np.array(Y)\n",
    "    if shuffle:\n",
    "        indexs = [i for i in range(len(X))] \n",
    "        random.shuffle(indexs) #乱序\n",
    "        X = X[indexs]\n",
    "        Y = Y[indexs]\n",
    "    return X, Y\n",
    "\n",
    "dataset_dir = \"./dataset/\"\n",
    "X, Y = obtainXY(dataset_dir, shuffle=True)\n",
    "print(\"train data:\", X.shape, Y.shape)\n",
    "\n",
    "train_x = X\n",
    "train_y = Y\n",
    "# input output shape\n",
    "print(\"tran data shape:\", train_x.shape, train_y.shape)\n",
    "\n",
    "dataset_test_dir = \"./dataset-test/\"\n",
    "vX, vY = obtainXY(dataset_test_dir)\n",
    "print(\"test data:\", vX.shape, vY.shape)"
   ]
  },
  {
   "cell_type": "code",
   "execution_count": 37,
   "id": "494583cf",
   "metadata": {},
   "outputs": [
    {
     "name": "stdout",
     "output_type": "stream",
     "text": [
      "Counter({1: 243, 0: 195}) 438\n",
      "0 占比: 0.445\n",
      "1 占比: 0.555\n"
     ]
    }
   ],
   "source": [
    "from collections import Counter\n",
    "\n",
    "def print_pecent(data, class_num=2):\n",
    "    y_ = list(data)\n",
    "    size = len(y_)\n",
    "    class_counter = Counter(y_)\n",
    "    print(class_counter, size)\n",
    "    for i in range(class_num):\n",
    "        print(i, \"占比:\", round(class_counter[i]/size, 3))\n",
    "\n",
    "print_pecent(Y)"
   ]
  },
  {
   "cell_type": "code",
   "execution_count": 38,
   "id": "89f4e4ab",
   "metadata": {},
   "outputs": [],
   "source": [
    "from keras import layers, regularizers\n",
    "from keras.models import Sequential\n",
    "from keras.callbacks import ModelCheckpoint\n",
    "from keras.models import load_model\n",
    "\n",
    "# 卷积神经网络\n",
    "def creat_cnn(input_shape=(9, 6), print_summary=False):\n",
    "    model = Sequential()\n",
    "    model.add(layers.Conv1D(6, kernel_size=3, input_shape=input_shape, padding='same', activation='relu'))\n",
    "    model.add(layers.Conv1D(12, kernel_size=3, padding='same', activation='relu'))\n",
    "    model.add(layers.Conv1D(24, kernel_size=3, strides=2, padding='same', activation='relu'))\n",
    "    model.add(layers.Flatten())\n",
    "    model.add(layers.Dense(128, activation='relu'))\n",
    "    model.add(layers.Dense(64, activation='relu'))\n",
    "    model.add(layers.Dense(1, activation='sigmoid'))\n",
    "    model.compile(loss='binary_crossentropy', optimizer='adam', metrics=['accuracy'])\n",
    "    if print_summary:\n",
    "        model.summary()\n",
    "    return model\n",
    "\n",
    "# 训练模型\n",
    "def train_net(train_x, train_y, batch_size, epochs, load_save_model=False):\n",
    "    tflite_name = \"mymodel.tflite\"\n",
    "    model_path = './model/'\n",
    "    if load_save_model:\n",
    "        print('train load save model path', model_path)\n",
    "        model = load_model(model_path)\n",
    "    else:\n",
    "        print('train create new model')\n",
    "        model = creat_cnn(print_summary=True) # cnn卷积神经网络\n",
    "    model.fit(train_x, train_y, batch_size=batch_size, epochs=epochs, verbose=1)\n",
    "    model.save(model_path)\n",
    "    \n",
    "    #save tflite model\n",
    "    converter = tf.lite.TFLiteConverter.from_keras_model(model)\n",
    "    tflite_model = converter.convert()\n",
    "    open(tflite_name, \"wb\").write(tflite_model)\n",
    "    return model\n",
    "\n",
    "# 验证模型\n",
    "def verify_model(model, valid_x, valid_y, num_classes=2):\n",
    "    y_pred = model.predict(valid_x)\n",
    "    y_pred = np.round(y_pred).astype(int)\n",
    "    size = [0 for i in range(num_classes)]\n",
    "    correct = [0 for i in range(num_classes)]\n",
    "    for i in range(len(y_pred)):\n",
    "        label = valid_y[i]\n",
    "        pred = y_pred[i]\n",
    "        size[label] += 1\n",
    "        if pred == label:\n",
    "            correct[label] += 1\n",
    "    print(\"total accuracy:\", sum(correct)/sum(size))\n",
    "    for i in range(num_classes):\n",
    "        print(\"label:\", str(i), \" accuracy:\", correct[i]/max(size[i], 1))"
   ]
  },
  {
   "cell_type": "code",
   "execution_count": 39,
   "id": "6458b31e",
   "metadata": {},
   "outputs": [
    {
     "name": "stdout",
     "output_type": "stream",
     "text": [
      "train create new model\n",
      "Model: \"sequential_5\"\n",
      "_________________________________________________________________\n",
      " Layer (type)                Output Shape              Param #   \n",
      "=================================================================\n",
      " conv1d_15 (Conv1D)          (None, 9, 6)              114       \n",
      "                                                                 \n",
      " conv1d_16 (Conv1D)          (None, 9, 12)             228       \n",
      "                                                                 \n",
      " conv1d_17 (Conv1D)          (None, 5, 24)             888       \n",
      "                                                                 \n",
      " flatten_5 (Flatten)         (None, 120)               0         \n",
      "                                                                 \n",
      " dense_15 (Dense)            (None, 128)               15488     \n",
      "                                                                 \n",
      " dense_16 (Dense)            (None, 64)                8256      \n",
      "                                                                 \n",
      " dense_17 (Dense)            (None, 1)                 65        \n",
      "                                                                 \n",
      "=================================================================\n",
      "Total params: 25,039\n",
      "Trainable params: 25,039\n",
      "Non-trainable params: 0\n",
      "_________________________________________________________________\n",
      "Epoch 1/24\n",
      "28/28 [==============================] - 1s 2ms/step - loss: 3.0153 - accuracy: 0.8105\n",
      "Epoch 2/24\n",
      "28/28 [==============================] - 0s 2ms/step - loss: 0.5462 - accuracy: 0.9361\n",
      "Epoch 3/24\n",
      "28/28 [==============================] - 0s 3ms/step - loss: 0.1454 - accuracy: 0.9680\n",
      "Epoch 4/24\n",
      "28/28 [==============================] - 0s 2ms/step - loss: 0.1526 - accuracy: 0.9680\n",
      "Epoch 5/24\n",
      "28/28 [==============================] - 0s 2ms/step - loss: 0.1456 - accuracy: 0.9589\n",
      "Epoch 6/24\n",
      "28/28 [==============================] - 0s 2ms/step - loss: 0.1625 - accuracy: 0.9521\n",
      "Epoch 7/24\n",
      "28/28 [==============================] - 0s 2ms/step - loss: 0.1404 - accuracy: 0.9703\n",
      "Epoch 8/24\n",
      "28/28 [==============================] - 0s 2ms/step - loss: 0.1341 - accuracy: 0.9703\n",
      "Epoch 9/24\n",
      "28/28 [==============================] - 0s 2ms/step - loss: 0.1159 - accuracy: 0.9772\n",
      "Epoch 10/24\n",
      "28/28 [==============================] - 0s 2ms/step - loss: 0.2066 - accuracy: 0.9429\n",
      "Epoch 11/24\n",
      "28/28 [==============================] - 0s 2ms/step - loss: 0.1319 - accuracy: 0.9749\n",
      "Epoch 12/24\n",
      "28/28 [==============================] - 0s 2ms/step - loss: 0.1320 - accuracy: 0.9658\n",
      "Epoch 13/24\n",
      "28/28 [==============================] - 0s 2ms/step - loss: 0.0563 - accuracy: 0.9886\n",
      "Epoch 14/24\n",
      "28/28 [==============================] - 0s 2ms/step - loss: 0.0466 - accuracy: 0.9886\n",
      "Epoch 15/24\n",
      "28/28 [==============================] - 0s 2ms/step - loss: 0.0446 - accuracy: 0.9886\n",
      "Epoch 16/24\n",
      "28/28 [==============================] - 0s 2ms/step - loss: 0.1527 - accuracy: 0.9658\n",
      "Epoch 17/24\n",
      "28/28 [==============================] - 0s 2ms/step - loss: 0.1445 - accuracy: 0.9749\n",
      "Epoch 18/24\n",
      "28/28 [==============================] - 0s 2ms/step - loss: 0.0580 - accuracy: 0.9817\n",
      "Epoch 19/24\n",
      "28/28 [==============================] - 0s 2ms/step - loss: 0.0445 - accuracy: 0.9863\n",
      "Epoch 20/24\n",
      "28/28 [==============================] - 0s 2ms/step - loss: 0.0625 - accuracy: 0.9863\n",
      "Epoch 21/24\n",
      "28/28 [==============================] - 0s 2ms/step - loss: 0.0500 - accuracy: 0.9772\n",
      "Epoch 22/24\n",
      "28/28 [==============================] - 0s 2ms/step - loss: 0.0474 - accuracy: 0.9863\n",
      "Epoch 23/24\n",
      "28/28 [==============================] - 0s 2ms/step - loss: 0.0885 - accuracy: 0.9703\n",
      "Epoch 24/24\n",
      "28/28 [==============================] - 0s 3ms/step - loss: 0.1004 - accuracy: 0.9817\n"
     ]
    },
    {
     "name": "stderr",
     "output_type": "stream",
     "text": [
      "WARNING:absl:Found untraced functions such as _jit_compiled_convolution_op, _jit_compiled_convolution_op, _jit_compiled_convolution_op while saving (showing 3 of 3). These functions will not be directly callable after loading.\n"
     ]
    },
    {
     "name": "stdout",
     "output_type": "stream",
     "text": [
      "INFO:tensorflow:Assets written to: ./model/assets\n"
     ]
    },
    {
     "name": "stderr",
     "output_type": "stream",
     "text": [
      "INFO:tensorflow:Assets written to: ./model/assets\n",
      "WARNING:absl:Found untraced functions such as _jit_compiled_convolution_op, _jit_compiled_convolution_op, _jit_compiled_convolution_op while saving (showing 3 of 3). These functions will not be directly callable after loading.\n"
     ]
    },
    {
     "name": "stdout",
     "output_type": "stream",
     "text": [
      "INFO:tensorflow:Assets written to: /var/folders/yn/ntp3qk1946g09h3hckj58phm0000gp/T/tmpckzzhx80/assets\n"
     ]
    },
    {
     "name": "stderr",
     "output_type": "stream",
     "text": [
      "INFO:tensorflow:Assets written to: /var/folders/yn/ntp3qk1946g09h3hckj58phm0000gp/T/tmpckzzhx80/assets\n"
     ]
    },
    {
     "name": "stdout",
     "output_type": "stream",
     "text": [
      "3/3 [==============================] - 0s 1ms/step\n",
      "total accuracy: 0.9855072463768116\n",
      "label: 0  accuracy: 0.972972972972973\n",
      "label: 1  accuracy: 1.0\n"
     ]
    },
    {
     "name": "stderr",
     "output_type": "stream",
     "text": [
      "2022-07-15 13:14:46.115071: W tensorflow/compiler/mlir/lite/python/tf_tfl_flatbuffer_helpers.cc:362] Ignored output_format.\n",
      "2022-07-15 13:14:46.115085: W tensorflow/compiler/mlir/lite/python/tf_tfl_flatbuffer_helpers.cc:365] Ignored drop_control_dependency.\n",
      "2022-07-15 13:14:46.115192: I tensorflow/cc/saved_model/reader.cc:43] Reading SavedModel from: /var/folders/yn/ntp3qk1946g09h3hckj58phm0000gp/T/tmpckzzhx80\n",
      "2022-07-15 13:14:46.117379: I tensorflow/cc/saved_model/reader.cc:81] Reading meta graph with tags { serve }\n",
      "2022-07-15 13:14:46.117390: I tensorflow/cc/saved_model/reader.cc:122] Reading SavedModel debug info (if present) from: /var/folders/yn/ntp3qk1946g09h3hckj58phm0000gp/T/tmpckzzhx80\n",
      "2022-07-15 13:14:46.126117: I tensorflow/cc/saved_model/loader.cc:228] Restoring SavedModel bundle.\n",
      "2022-07-15 13:14:46.225237: I tensorflow/cc/saved_model/loader.cc:212] Running initialization op on SavedModel bundle at path: /var/folders/yn/ntp3qk1946g09h3hckj58phm0000gp/T/tmpckzzhx80\n",
      "2022-07-15 13:14:46.253216: I tensorflow/cc/saved_model/loader.cc:301] SavedModel load for tags { serve }; Status: success: OK. Took 138024 microseconds.\n"
     ]
    }
   ],
   "source": [
    "# 训练卷积网络模型\n",
    "model = train_net(train_x, train_y, batch_size=16, epochs=24, load_save_model=False)\n",
    "# 验证模型\n",
    "verify_model(model, vX, vY)"
   ]
  },
  {
   "cell_type": "code",
   "execution_count": 40,
   "id": "f9353d12",
   "metadata": {},
   "outputs": [],
   "source": [
    "# retrain model\n",
    "#train_net(train_x, train_y, batch_size=16, epochs=8, load_save_model=True)"
   ]
  }
 ],
 "metadata": {
  "kernelspec": {
   "display_name": "Python 3.8.3 ('base')",
   "language": "python",
   "name": "python3"
  },
  "language_info": {
   "codemirror_mode": {
    "name": "ipython",
    "version": 3
   },
   "file_extension": ".py",
   "mimetype": "text/x-python",
   "name": "python",
   "nbconvert_exporter": "python",
   "pygments_lexer": "ipython3",
   "version": "3.8.3"
  },
  "vscode": {
   "interpreter": {
    "hash": "3d597f4c481aa0f25dceb95d2a0067e73c0966dcbd003d741d821a7208527ecf"
   }
  }
 },
 "nbformat": 4,
 "nbformat_minor": 5
}
